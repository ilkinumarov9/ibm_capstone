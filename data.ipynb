{
 "cells": [
  {
   "cell_type": "markdown",
   "metadata": {},
   "source": [
    "# Data"
   ]
  },
  {
   "cell_type": "markdown",
   "metadata": {},
   "source": [
    "Data Link: https://en.wikipedia.org/wiki/List_of_postal_codes_of_Canada:_M\n",
    "\n",
    "We're going to use the Scarborough dataset, which we scraped from Wikipedia in Week 3. Latitude and longitude, as well as zip codes, make up this dataset.\n",
    "\n",
    "We'll need information on numerous venues in the borough's various neighbourhoods. We'll use \"Foursquare\" locational information to get the information. Foursquare is a location service provider that offers information on a range of venues and activities in a specific region. Names of venues, their locations, menus, and even photographs are examples of this sort of detail.\n"
   ]
  }
 ],
 "metadata": {
  "kernelspec": {
   "display_name": "Python 3",
   "language": "python",
   "name": "python3"
  },
  "language_info": {
   "codemirror_mode": {
    "name": "ipython",
    "version": 3
   },
   "file_extension": ".py",
   "mimetype": "text/x-python",
   "name": "python",
   "nbconvert_exporter": "python",
   "pygments_lexer": "ipython3",
   "version": "3.7.4"
  }
 },
 "nbformat": 4,
 "nbformat_minor": 2
}
