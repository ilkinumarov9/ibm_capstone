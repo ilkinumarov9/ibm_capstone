{
 "cells": [
  {
   "cell_type": "markdown",
   "metadata": {},
   "source": [
    "# Introduction/Business Problem"
   ]
  },
  {
   "cell_type": "markdown",
   "metadata": {},
   "source": [
    "Many families are commuting to different areas of Canada, and they need to do a lot of homework to find decent accommodation and respectable schools for their children. This project is for people who want to live in a more attractive neighborhood. For convenient access to cafes, schools, pharmacies, medical and food stores, malls, theaters, clinics, and like-minded individuals, among other things.\n",
    "\n",
    "This project aims to create a feature study for people migrating to Scarborough in order to find the right community by contrasting communities. The features include median home prices and better schools based on scores, crime rates in the city, road access, weather patterns, good emergency management, and fresh and waste water supplies.\n",
    "\n",
    "It will assist people in becoming acquainted with the area and community before relocating to a new city, state, country, or location for work or to begin a new life.\n"
   ]
  },
  {
   "cell_type": "code",
   "execution_count": null,
   "metadata": {},
   "outputs": [],
   "source": []
  }
 ],
 "metadata": {
  "kernelspec": {
   "display_name": "Python 3",
   "language": "python",
   "name": "python3"
  },
  "language_info": {
   "codemirror_mode": {
    "name": "ipython",
    "version": 3
   },
   "file_extension": ".py",
   "mimetype": "text/x-python",
   "name": "python",
   "nbconvert_exporter": "python",
   "pygments_lexer": "ipython3",
   "version": "3.7.4"
  }
 },
 "nbformat": 4,
 "nbformat_minor": 2
}
